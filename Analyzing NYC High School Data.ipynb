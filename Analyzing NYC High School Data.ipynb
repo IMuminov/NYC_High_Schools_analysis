{
 "cells": [
  {
   "cell_type": "markdown",
   "metadata": {},
   "source": [
    "# Analyzing NYC High School Data\n",
    "\n",
    "## Introduction\n",
    "\n",
    "In this small project we will look at NYC high schools data and analyze to find interesting insights. For a brief bit of background, the SAT, or Scholastic Aptitude Test, is a test that high school seniors in the U.S. take every year. The SAT has three sections, each of which is worth a maximum of 800 points. Colleges use the SAT to determine which students to admit. High average SAT scores are usually indicative of a good school.\n",
    "\n",
    "**Datasets were obtained in** [this website](https://data.cityofnewyork.us/browse?category=Education)\n",
    "\n",
    "New York City has published data on student SAT scores by high school, along with additional demographic data sets. Over the last three missions, we combined the following data sets into a single, clean pandas dataframe:\n",
    "\n",
    "- SAT scores by school - SAT scores for each high school in New York City\n",
    "- School attendance - Attendance information for each school in New York City\n",
    "- Class size - Information on class size for each school\n",
    "- AP test results - Advanced Placement (AP) exam results for each high school (passing an optional AP exam in a particular subject can earn a student college credit in that subject)\n",
    "- Graduation outcomes - The percentage of students who graduated, and other outcome information\n",
    "- Demographics - Demographic information for each school\n",
    "- School survey - Surveys of parents, teachers, and students at each school\n",
    "\n",
    "New York City has a significant immigrant population and is very diverse, so comparing demographic factors such as race, income, and gender with SAT scores is a good way to determine whether the SAT is a fair test. For example, if certain racial groups consistently perform better on the SAT, we would have some evidence that the SAT is unfair.\n",
    "\n",
    "The dataframe **combined** contains all of the data we'll be using in our analysis"
   ]
  },
  {
   "cell_type": "markdown",
   "metadata": {},
   "source": [
    "## Read in Data"
   ]
  },
  {
   "cell_type": "code",
   "execution_count": 1,
   "metadata": {},
   "outputs": [],
   "source": [
    "# preparing the environment\n",
    "import pandas as pd\n",
    "import numpy as np\n",
    "import matplotlib.pyplot as plt\n",
    "import re\n",
    "\n",
    "# creating data dictionary\n",
    "data_files = [\n",
    "    \"ap_2010.csv\",\n",
    "    \"class_size.csv\",\n",
    "    \"demographics.csv\",\n",
    "    \"graduation.csv\",\n",
    "    \"hs_directory.csv\",\n",
    "    \"sat_results.csv\"\n",
    "]\n",
    "\n",
    "data = {}\n",
    "\n",
    "for f in data_files:\n",
    "    d = pd.read_csv(\"schools/{}\".format(f))\n",
    "    data[f.replace(\".csv\", \"\")] = d"
   ]
  },
  {
   "cell_type": "markdown",
   "metadata": {},
   "source": [
    "## Read in the surveys"
   ]
  },
  {
   "cell_type": "markdown",
   "metadata": {},
   "source": [
    "Survey dataset contains of two .txt files. Because they cannot be read into csv directly, we will set parameters such as delimiter, and encoding. Reading these files in default 'utf-8' raises an error, as they were decoded in 'windows-1252'\n",
    "\n",
    "> column **DBN** is the index column that will be used to merge all the datasets. "
   ]
  },
  {
   "cell_type": "code",
   "execution_count": 2,
   "metadata": {},
   "outputs": [
    {
     "name": "stderr",
     "output_type": "stream",
     "text": [
      "/Users/imuminov/anaconda3/envs/NOTEBOOK/lib/python3.7/site-packages/ipykernel_launcher.py:3: FutureWarning: Sorting because non-concatenation axis is not aligned. A future version\n",
      "of pandas will change to not sort by default.\n",
      "\n",
      "To accept the future behavior, pass 'sort=False'.\n",
      "\n",
      "To retain the current behavior and silence the warning, pass 'sort=True'.\n",
      "\n",
      "  This is separate from the ipykernel package so we can avoid doing imports until\n"
     ]
    }
   ],
   "source": [
    "all_survey = pd.read_csv(\"schools/survey_all.txt\", delimiter=\"\\t\", encoding=\"windows-1252\")\n",
    "d75_survey = pd.read_csv(\"schools/survey_d75.txt\", delimiter=\"\\t\", encoding=\"windows-1252\")\n",
    "survey = pd.concat([all_survey, d75_survey], axis=0)\n",
    "\n",
    "survey['DBN'] = survey['dbn']\n",
    "\n",
    "survey_fields = [\n",
    "        \"DBN\", \n",
    "    \"rr_s\", \n",
    "    \"rr_t\", \n",
    "    \"rr_p\", \n",
    "    \"N_s\", \n",
    "    \"N_t\", \n",
    "    \"N_p\", \n",
    "    \"saf_p_11\", \n",
    "    \"com_p_11\", \n",
    "    \"eng_p_11\", \n",
    "    \"aca_p_11\", \n",
    "    \"saf_t_11\", \n",
    "    \"com_t_11\", \n",
    "    \"eng_t_11\", \n",
    "    \"aca_t_11\", \n",
    "    \"saf_s_11\", \n",
    "    \"com_s_11\", \n",
    "    \"eng_s_11\", \n",
    "    \"aca_s_11\", \n",
    "    \"saf_tot_11\", \n",
    "    \"com_tot_11\", \n",
    "    \"eng_tot_11\", \n",
    "    \"aca_tot_11\"\n",
    "]\n",
    "\n",
    "survey = survey.loc[:, survey_fields]\n",
    "data['survey'] = survey"
   ]
  },
  {
   "cell_type": "markdown",
   "metadata": {},
   "source": [
    "## Add DBN columns\n",
    "\n",
    "As mentioned above, **DBN** is a main col for merging, we need to clean this column and standardize across datasets"
   ]
  },
  {
   "cell_type": "code",
   "execution_count": 3,
   "metadata": {},
   "outputs": [],
   "source": [
    "data['hs_directory']['DBN'] = data['hs_directory']['dbn']\n",
    "\n",
    "def padding_zero(col):\n",
    "    col = str(col)\n",
    "    if len(col) < 2:\n",
    "        col = col.zfill(2)\n",
    "    return col\n",
    "data['class_size']['padded_csd'] = data['class_size']['CSD'].apply(padding_zero)\n",
    "\n",
    "data['class_size']['DBN'] = data['class_size']['padded_csd'] + data['class_size']['SCHOOL CODE']"
   ]
  },
  {
   "cell_type": "markdown",
   "metadata": {},
   "source": [
    "## Converting columns to numeric\n",
    "\n",
    "Some cols with numeric values are not in numeric format, we will convert them for calculation and analysis"
   ]
  },
  {
   "cell_type": "code",
   "execution_count": 4,
   "metadata": {},
   "outputs": [],
   "source": [
    "cols = ['SAT Math Avg. Score', 'SAT Critical Reading Avg. Score', 'SAT Writing Avg. Score']\n",
    "for c in cols:\n",
    "    data[\"sat_results\"][c] = pd.to_numeric(data[\"sat_results\"][c], errors=\"coerce\")\n",
    "\n",
    "\n",
    "data['sat_results']['sat_score'] = (data['sat_results'][cols[0]] + \n",
    "                                    data['sat_results'][cols[1]] + \n",
    "                                    data['sat_results'][cols[2]])\n",
    "\n",
    "# extracting latitudes from dataset. \n",
    "def find_lat(loc):\n",
    "    coords = re.findall(\"\\(.+, .+\\)\", loc)\n",
    "    lat = coords[0].split(\",\")[0].replace(\"(\", \"\")\n",
    "    return lat\n",
    "\n",
    "# extracting longitudes.\n",
    "def find_lon(loc):\n",
    "    coords = re.findall(\"\\(.+, .+\\)\", loc)\n",
    "    lon = coords[0].split(\",\")[1].replace(\")\", \"\").strip()\n",
    "    return lon\n",
    "\n",
    "\n",
    "data[\"hs_directory\"][\"lat\"] = data[\"hs_directory\"][\"Location 1\"].apply(find_lat)\n",
    "data[\"hs_directory\"][\"lon\"] = data[\"hs_directory\"][\"Location 1\"].apply(find_lon)\n",
    "\n",
    "\n",
    "data[\"hs_directory\"][\"lat\"] = pd.to_numeric(data[\"hs_directory\"][\"lat\"], errors=\"coerce\")\n",
    "data[\"hs_directory\"][\"lon\"] = pd.to_numeric(data[\"hs_directory\"][\"lon\"], errors=\"coerce\")"
   ]
  },
  {
   "cell_type": "markdown",
   "metadata": {},
   "source": [
    "## Condense datasets\n",
    "\n",
    "Because some datasets are very large and contains unnecesarry information, we will condense them, so that only data for High schools will be kept. "
   ]
  },
  {
   "cell_type": "code",
   "execution_count": 5,
   "metadata": {},
   "outputs": [],
   "source": [
    "class_size = data[\"class_size\"]\n",
    "class_size = class_size[class_size[\"GRADE \"] == \"09-12\"]\n",
    "class_size = class_size[class_size[\"PROGRAM TYPE\"] == \"GEN ED\"]\n",
    "\n",
    "class_size = class_size.groupby(\"DBN\").agg(np.mean)\n",
    "class_size.reset_index(inplace=True)\n",
    "data[\"class_size\"] = class_size\n",
    "\n",
    "data[\"demographics\"] = data[\"demographics\"][data[\"demographics\"][\"schoolyear\"] == 20112012]\n",
    "\n",
    "data[\"graduation\"] = data[\"graduation\"][data[\"graduation\"][\"Cohort\"] == \"2006\"]\n",
    "data[\"graduation\"] = data[\"graduation\"][data[\"graduation\"][\"Demographic\"] == \"Total Cohort\"]"
   ]
  },
  {
   "cell_type": "markdown",
   "metadata": {},
   "source": [
    "## Convert AP scores to numeric"
   ]
  },
  {
   "cell_type": "code",
   "execution_count": 6,
   "metadata": {},
   "outputs": [],
   "source": [
    "cols = ['AP Test Takers ', 'Total Exams Taken', 'Number of Exams with scores 3 4 or 5']\n",
    "\n",
    "for col in cols:\n",
    "    data[\"ap_2010\"][col] = pd.to_numeric(data[\"ap_2010\"][col], errors=\"coerce\")"
   ]
  },
  {
   "cell_type": "code",
   "execution_count": 7,
   "metadata": {},
   "outputs": [],
   "source": [
    "combined = data[\"sat_results\"]\n",
    "\n",
    "combined = combined.merge(data[\"ap_2010\"], on=\"DBN\", how=\"left\")\n",
    "combined = combined.merge(data[\"graduation\"], on=\"DBN\", how=\"left\")\n",
    "\n",
    "to_merge = [\"class_size\", \"demographics\", \"survey\", \"hs_directory\"]\n",
    "\n",
    "for m in to_merge:\n",
    "    combined = combined.merge(data[m], on=\"DBN\", how=\"inner\")\n",
    "\n",
    "combined = combined.fillna(combined.mean())\n",
    "combined = combined.fillna(0)## Combine Datasets"
   ]
  },
  {
   "cell_type": "markdown",
   "metadata": {},
   "source": [
    "## Add a School district col"
   ]
  },
  {
   "cell_type": "markdown",
   "metadata": {},
   "source": [
    "School district is a two digit number that represents the district that the school is located at. It is different from Borough (Manhattan, Bronx etc.). We will extract them in a seperate col. "
   ]
  },
  {
   "cell_type": "code",
   "execution_count": 8,
   "metadata": {},
   "outputs": [],
   "source": [
    "combined['school_dist'] = combined['DBN'].str[0:2]"
   ]
  },
  {
   "cell_type": "markdown",
   "metadata": {},
   "source": [
    "## Find Correlations\n",
    "\n",
    "Now it is time for an actual analysis as we have prepared the data. \n",
    "\n",
    "We will start by finding correlations between survey results and average sat_scores for schools. "
   ]
  },
  {
   "cell_type": "code",
   "execution_count": 9,
   "metadata": {},
   "outputs": [
    {
     "data": {
      "text/plain": [
       "SAT Critical Reading Avg. Score    0.986820\n",
       "SAT Math Avg. Score                0.972643\n",
       "SAT Writing Avg. Score             0.987771\n",
       "sat_score                          1.000000\n",
       "AP Test Takers                     0.523140\n",
       "                                     ...   \n",
       "Census Tract                       0.048737\n",
       "BIN                                0.052232\n",
       "BBL                                0.044427\n",
       "lat                               -0.121029\n",
       "lon                               -0.132222\n",
       "Name: sat_score, Length: 85, dtype: float64"
      ]
     },
     "execution_count": 9,
     "metadata": {},
     "output_type": "execute_result"
    }
   ],
   "source": [
    "correlations = combined.corr()\n",
    "correlations = correlations[\"sat_score\"]\n",
    "correlations"
   ]
  },
  {
   "cell_type": "markdown",
   "metadata": {},
   "source": [
    "## Plotting survey correlations"
   ]
  },
  {
   "attachments": {},
   "cell_type": "markdown",
   "metadata": {},
   "source": [
    "Here we will look at the correlations between survey data and sat_score, to find out whether school atmosphere and administration scores have impact on sat_scores. \n",
    "\n",
    "Just to remind,  here is the definition of cols in survey data. The scores range from 0 to 10. \n",
    "\n",
    "\n",
    "Column Name | Definition\n",
    "--|--\n",
    "rr_s|\tStudent Response Rate\n",
    "rr_t|\tTeacher Response Rate\n",
    "rr_p|\tParent Response Rate\n",
    "N_s|\tNumber of student respondents\n",
    "N_t|\tNumber of teacher respondents\n",
    "N_p|\tNumber of parent respondents\n",
    "nr_s|\tNumber of eligible students\n",
    "nr_t|\tNumber of eligible teachers\n",
    "nr_p|\tNumber of eligible parents\n",
    "saf_p_10|\tSafety and Respect score based on parent responses\n",
    "com_p_10|\tCommunication score based on parent responses\n",
    "eng_p_10|\tEngagement score based on parent responses\n",
    "aca_p_10|\tAcademic expectations score based on parent responses\n",
    "saf_t_10|\tSafety and Respect score based on teacher responses\n",
    "com_t_10|\tCommunication score based on teacher responses\n",
    "eng_t_10|\tEngagement score based on teacher responses\n",
    "aca_t_10|\tAcademic expectations score based on teacher responses\n",
    "saf_s_10|\tSafety and Respect score based on student responses\n",
    "com_s_10|\tCommunication score based on student responses\n",
    "eng_s_10|\tEngagement score based on student responses\n",
    "aca_s_10|\tAcademic expectations score based on student responses\n",
    "saf_tot_10|\tSafety and Respect total score\n",
    "com_tot_10|\tCommunication total score\n",
    "eng_tot_10|\tEngagement total score\n",
    "aca_tot_10|\tAcademic Expectations total score"
   ]
  },
  {
   "cell_type": "code",
   "execution_count": 10,
   "metadata": {},
   "outputs": [],
   "source": [
    "# Remove DBN since it's a unique identifier, not a useful numerical value for correlation.\n",
    "survey_fields.append('sat_score')\n",
    "survey_correlations = combined[survey_fields].corr()['sat_score']"
   ]
  },
  {
   "cell_type": "code",
   "execution_count": 11,
   "metadata": {},
   "outputs": [
    {
     "data": {
      "image/png": "[encoded data removed]",
      "text/plain": [
       "<Figure size 504x288 with 1 Axes>"
      ]
     },
     "metadata": {
      "needs_background": "light"
     },
     "output_type": "display_data"
    }
   ],
   "source": [
    "import seaborn as sns\n",
    "\n",
    "ax = survey_correlations.plot.bar(figsize=(7,4))\n",
    "ax.set_xticklabels(ax.get_xticklabels(),\n",
    "                  rotation=45,\n",
    "                  horizontalalignment='right')\n",
    "ax.set_title('SAT Score and Survey Correlations')\n",
    "plt.show()"
   ]
  },
  {
   "attachments": {},
   "cell_type": "markdown",
   "metadata": {},
   "source": [
    "## Interpreting correlations\n",
    " \n",
    "- N_s           0.423463 : Number of Student Respondents\n",
    "- N_t           0.291463 : Number of teacher respondents\n",
    "- N_p           0.421530 : Number of parent respondents\n",
    "- saf_t_11      0.313810 : Safety and Respect score based on teacher responses\n",
    "- saf_s_11      0.337639 : Safety and respect scores based on student responses\n",
    "- aca_s_11      0.339435 : Academic expectations score based on sutdents responses\n",
    "- saf_tot_11    0.318753 : Safety and respect total score\n",
    "\n",
    "There are the correlations higher than .25, which should not be neglected. \n",
    "\n",
    "- Safety and respect score based on teachers and students are very close in value. \n",
    "\n",
    "- academic expectations do have some impact on sat score, well based on this number\n",
    "\n",
    "- safety total is close to safety and respect based on specific people"
   ]
  },
  {
   "cell_type": "markdown",
   "metadata": {},
   "source": [
    "## Exploring safety and SAT scores"
   ]
  },
  {
   "cell_type": "markdown",
   "metadata": {},
   "source": [
    "Interestingly safety score and sat_score have a positive correlation of clost to .4. This might not be significant, but it is still interesting to look at it. \n",
    "\n",
    "For that we will draw scatter plot of safety and sat_scores"
   ]
  },
  {
   "cell_type": "code",
   "execution_count": 12,
   "metadata": {
    "scrolled": false
   },
   "outputs": [
    {
     "data": {
      "image/png": "[encoded data removed]",
      "text/plain": [
       "<Figure size 432x288 with 1 Axes>"
      ]
     },
     "metadata": {
      "needs_background": "light"
     },
     "output_type": "display_data"
    }
   ],
   "source": [
    "combined.plot.scatter('saf_s_11', 'sat_score')\n",
    "plt.show()"
   ]
  },
  {
   "cell_type": "markdown",
   "metadata": {},
   "source": [
    "Safety and Respect score have a very little correlation with SAT scores, they do have some common traits, but it is too far sketched to say that one is caused by the other. "
   ]
  },
  {
   "cell_type": "code",
   "execution_count": 13,
   "metadata": {},
   "outputs": [
    {
     "data": {
      "text/plain": [
       "19    7.120000\n",
       "11    7.116667\n",
       "23    7.107692\n",
       "29    7.033333\n",
       "21    7.025000\n",
       "5     6.950000\n",
       "24    6.912500\n",
       "1     6.910660\n",
       "3     6.885714\n",
       "6     6.800000\n",
       "Name: saf_s_11, dtype: float64"
      ]
     },
     "execution_count": 13,
     "metadata": {},
     "output_type": "execute_result"
    }
   ],
   "source": [
    "# Average safety score by district\n",
    "districts = combined.groupby('school_dist').agg(np.mean)\n",
    "districts.reset_index(inplace=True)\n",
    "districts['saf_s_11'].sort_values(ascending=False).head(10)"
   ]
  },
  {
   "cell_type": "markdown",
   "metadata": {},
   "source": [
    "Mapping schools by districts, and color the map in according to safety scores. \n",
    "\n",
    "We will use *'summer'* colormapping, which means that blue color means lower safety score, and yellow higher safety score. "
   ]
  },
  {
   "cell_type": "code",
   "execution_count": 14,
   "metadata": {},
   "outputs": [
    {
     "name": "stderr",
     "output_type": "stream",
     "text": [
      "/Users/imuminov/anaconda3/envs/NOTEBOOK/lib/python3.7/site-packages/ipykernel_launcher.py:9: MatplotlibDeprecationWarning: \n",
      "The dedent function was deprecated in Matplotlib 3.1 and will be removed in 3.3. Use inspect.cleandoc instead.\n",
      "  if __name__ == '__main__':\n",
      "/Users/imuminov/anaconda3/envs/NOTEBOOK/lib/python3.7/site-packages/ipykernel_launcher.py:13: MatplotlibDeprecationWarning: \n",
      "The dedent function was deprecated in Matplotlib 3.1 and will be removed in 3.3. Use inspect.cleandoc instead.\n",
      "  del sys.path[0]\n"
     ]
    },
    {
     "data": {
      "image/png": "[encoded data removed]",
      "text/plain": [
       "<Figure size 432x288 with 1 Axes>"
      ]
     },
     "metadata": {},
     "output_type": "display_data"
    }
   ],
   "source": [
    "from mpl_toolkits.basemap import Basemap\n",
    "\n",
    "m = Basemap(\n",
    "    projection='merc',\n",
    "    llcrnrlat=40.496044, \n",
    "    urcrnrlat=40.915256, \n",
    "    llcrnrlon=-74.255735, \n",
    "    urcrnrlon=-73.700272,\n",
    "    resolution='i'\n",
    ")\n",
    "m.drawmapboundary()\n",
    "m.drawcoastlines(linewidth=.4)\n",
    "m.drawrivers(linewidth=.4, color='#6D5F47')\n",
    "\n",
    "longitudes = districts['lon'].tolist()\n",
    "latitudes = districts['lat'].tolist()\n",
    "m.scatter(longitudes, latitudes, s=20, zorder=2, latlon=True, c=districts['saf_s_11'], cmap='summer')\n",
    "plt.show()"
   ]
  },
  {
   "cell_type": "markdown",
   "metadata": {},
   "source": [
    "We can see that Manhattan has more low values for safety compared to other four boroughs. The Bronx is second least safe district for schools. "
   ]
  },
  {
   "cell_type": "markdown",
   "metadata": {},
   "source": [
    "## Exploring Race and SAT Scores"
   ]
  },
  {
   "cell_type": "code",
   "execution_count": 15,
   "metadata": {},
   "outputs": [
    {
     "data": {
      "image/png": "[encoded data removed]",
      "text/plain": [
       "<Figure size 432x288 with 1 Axes>"
      ]
     },
     "metadata": {
      "needs_background": "light"
     },
     "output_type": "display_data"
    }
   ],
   "source": [
    "combined.plot.scatter('hispanic_per', 'sat_score')\n",
    "plt.show()"
   ]
  },
  {
   "cell_type": "markdown",
   "metadata": {},
   "source": [
    "Interestingly, schools with more hispanic studetns score low on SAT test. If that is not enough, schools with 100 hispanic students scored relatively low. We need to further investigate the reason. "
   ]
  },
  {
   "cell_type": "markdown",
   "metadata": {},
   "source": [
    "## Research schools with more than 95% of hispanic students."
   ]
  },
  {
   "cell_type": "code",
   "execution_count": 16,
   "metadata": {
    "scrolled": true
   },
   "outputs": [
    {
     "data": {
      "text/plain": [
       "Index(['DBN', 'SCHOOL NAME', 'Num of SAT Test Takers',\n",
       "       'SAT Critical Reading Avg. Score', 'SAT Math Avg. Score',\n",
       "       'SAT Writing Avg. Score', 'sat_score', 'SchoolName', 'AP Test Takers ',\n",
       "       'Total Exams Taken',\n",
       "       ...\n",
       "       'Location 1', 'Community Board', 'Council District', 'Census Tract',\n",
       "       'BIN', 'BBL', 'NTA', 'lat', 'lon', 'school_dist'],\n",
       "      dtype='object', length=166)"
      ]
     },
     "execution_count": 16,
     "metadata": {},
     "output_type": "execute_result"
    }
   ],
   "source": [
    "combined.columns"
   ]
  },
  {
   "cell_type": "code",
   "execution_count": 17,
   "metadata": {},
   "outputs": [
    {
     "data": {
      "text/html": [
       "<div>\n",
       "<style scoped>\n",
       "    .dataframe tbody tr th:only-of-type {\n",
       "        vertical-align: middle;\n",
       "    }\n",
       "\n",
       "    .dataframe tbody tr th {\n",
       "        vertical-align: top;\n",
       "    }\n",
       "\n",
       "    .dataframe thead th {\n",
       "        text-align: right;\n",
       "    }\n",
       "</style>\n",
       "<table border=\"1\" class=\"dataframe\">\n",
       "  <thead>\n",
       "    <tr style=\"text-align: right;\">\n",
       "      <th></th>\n",
       "      <th>DBN</th>\n",
       "      <th>SCHOOL NAME</th>\n",
       "      <th>Num of SAT Test Takers</th>\n",
       "      <th>SAT Critical Reading Avg. Score</th>\n",
       "      <th>SAT Math Avg. Score</th>\n",
       "      <th>SAT Writing Avg. Score</th>\n",
       "      <th>sat_score</th>\n",
       "      <th>SchoolName</th>\n",
       "      <th>AP Test Takers</th>\n",
       "      <th>Total Exams Taken</th>\n",
       "      <th>...</th>\n",
       "      <th>Location 1</th>\n",
       "      <th>Community Board</th>\n",
       "      <th>Council District</th>\n",
       "      <th>Census Tract</th>\n",
       "      <th>BIN</th>\n",
       "      <th>BBL</th>\n",
       "      <th>NTA</th>\n",
       "      <th>lat</th>\n",
       "      <th>lon</th>\n",
       "      <th>school_dist</th>\n",
       "    </tr>\n",
       "  </thead>\n",
       "  <tbody>\n",
       "    <tr>\n",
       "      <th>44</th>\n",
       "      <td>02M542</td>\n",
       "      <td>MANHATTAN BRIDGES HIGH SCHOOL</td>\n",
       "      <td>66</td>\n",
       "      <td>336.0</td>\n",
       "      <td>378.0</td>\n",
       "      <td>344.0</td>\n",
       "      <td>1058.0</td>\n",
       "      <td>Manhattan Bridges High School</td>\n",
       "      <td>67.000000</td>\n",
       "      <td>102.000000</td>\n",
       "      <td>...</td>\n",
       "      <td>525 West 50Th Street\\nNew York, NY 10019\\n(40....</td>\n",
       "      <td>4.000000</td>\n",
       "      <td>3.000000</td>\n",
       "      <td>135.000000</td>\n",
       "      <td>1.083802e+06</td>\n",
       "      <td>1.010790e+09</td>\n",
       "      <td>Clinton                                       ...</td>\n",
       "      <td>40.765027</td>\n",
       "      <td>-73.992517</td>\n",
       "      <td>02</td>\n",
       "    </tr>\n",
       "    <tr>\n",
       "      <th>82</th>\n",
       "      <td>06M348</td>\n",
       "      <td>WASHINGTON HEIGHTS EXPEDITIONARY LEARNING SCHOOL</td>\n",
       "      <td>70</td>\n",
       "      <td>380.0</td>\n",
       "      <td>395.0</td>\n",
       "      <td>399.0</td>\n",
       "      <td>1174.0</td>\n",
       "      <td>0</td>\n",
       "      <td>129.028846</td>\n",
       "      <td>197.038462</td>\n",
       "      <td>...</td>\n",
       "      <td>511 West 182Nd Street\\nNew York, NY 10033\\n(40...</td>\n",
       "      <td>12.000000</td>\n",
       "      <td>10.000000</td>\n",
       "      <td>269.000000</td>\n",
       "      <td>1.063703e+06</td>\n",
       "      <td>1.021550e+09</td>\n",
       "      <td>Washington Heights North                      ...</td>\n",
       "      <td>40.848879</td>\n",
       "      <td>-73.930807</td>\n",
       "      <td>06</td>\n",
       "    </tr>\n",
       "    <tr>\n",
       "      <th>89</th>\n",
       "      <td>06M552</td>\n",
       "      <td>GREGORIO LUPERON HIGH SCHOOL FOR SCIENCE AND M...</td>\n",
       "      <td>56</td>\n",
       "      <td>339.0</td>\n",
       "      <td>349.0</td>\n",
       "      <td>326.0</td>\n",
       "      <td>1014.0</td>\n",
       "      <td>GREGORIO LUPERON HS SCI &amp; MATH</td>\n",
       "      <td>88.000000</td>\n",
       "      <td>138.000000</td>\n",
       "      <td>...</td>\n",
       "      <td>501 West 165Th\\nNew York, NY 10032\\n(40.838032...</td>\n",
       "      <td>6.792244</td>\n",
       "      <td>22.238227</td>\n",
       "      <td>3760.027701</td>\n",
       "      <td>2.587480e+06</td>\n",
       "      <td>2.515083e+09</td>\n",
       "      <td>0</td>\n",
       "      <td>40.838032</td>\n",
       "      <td>-73.938371</td>\n",
       "      <td>06</td>\n",
       "    </tr>\n",
       "    <tr>\n",
       "      <th>125</th>\n",
       "      <td>09X365</td>\n",
       "      <td>ACADEMY FOR LANGUAGE AND TECHNOLOGY</td>\n",
       "      <td>54</td>\n",
       "      <td>315.0</td>\n",
       "      <td>339.0</td>\n",
       "      <td>297.0</td>\n",
       "      <td>951.0</td>\n",
       "      <td>Academy for Language and Technology</td>\n",
       "      <td>20.000000</td>\n",
       "      <td>20.000000</td>\n",
       "      <td>...</td>\n",
       "      <td>1700 Macombs Road\\nBronx, NY 10453\\n(40.849102...</td>\n",
       "      <td>5.000000</td>\n",
       "      <td>14.000000</td>\n",
       "      <td>21502.000000</td>\n",
       "      <td>2.008460e+06</td>\n",
       "      <td>2.028660e+09</td>\n",
       "      <td>University Heights-Morris Heights             ...</td>\n",
       "      <td>40.849102</td>\n",
       "      <td>-73.916088</td>\n",
       "      <td>09</td>\n",
       "    </tr>\n",
       "    <tr>\n",
       "      <th>141</th>\n",
       "      <td>10X342</td>\n",
       "      <td>INTERNATIONAL SCHOOL FOR LIBERAL ARTS</td>\n",
       "      <td>49</td>\n",
       "      <td>300.0</td>\n",
       "      <td>333.0</td>\n",
       "      <td>301.0</td>\n",
       "      <td>934.0</td>\n",
       "      <td>International School for Liberal Arts</td>\n",
       "      <td>55.000000</td>\n",
       "      <td>73.000000</td>\n",
       "      <td>...</td>\n",
       "      <td>2780 Reservoir Avenue\\nBronx, NY 10468\\n(40.87...</td>\n",
       "      <td>7.000000</td>\n",
       "      <td>11.000000</td>\n",
       "      <td>409.000000</td>\n",
       "      <td>2.015241e+06</td>\n",
       "      <td>2.032470e+09</td>\n",
       "      <td>Van Cortlandt Village                         ...</td>\n",
       "      <td>40.870377</td>\n",
       "      <td>-73.898163</td>\n",
       "      <td>10</td>\n",
       "    </tr>\n",
       "    <tr>\n",
       "      <th>176</th>\n",
       "      <td>12X388</td>\n",
       "      <td>PAN AMERICAN INTERNATIONAL HIGH SCHOOL AT MONROE</td>\n",
       "      <td>30</td>\n",
       "      <td>321.0</td>\n",
       "      <td>351.0</td>\n",
       "      <td>298.0</td>\n",
       "      <td>970.0</td>\n",
       "      <td>0</td>\n",
       "      <td>129.028846</td>\n",
       "      <td>197.038462</td>\n",
       "      <td>...</td>\n",
       "      <td>1300 Boynton Avenue\\nBronx, NY 10472\\n(40.8313...</td>\n",
       "      <td>9.000000</td>\n",
       "      <td>18.000000</td>\n",
       "      <td>56.000000</td>\n",
       "      <td>2.027459e+06</td>\n",
       "      <td>2.038640e+09</td>\n",
       "      <td>West Farms-Bronx River                        ...</td>\n",
       "      <td>40.831366</td>\n",
       "      <td>-73.878823</td>\n",
       "      <td>12</td>\n",
       "    </tr>\n",
       "    <tr>\n",
       "      <th>253</th>\n",
       "      <td>19K583</td>\n",
       "      <td>MULTICULTURAL HIGH SCHOOL</td>\n",
       "      <td>29</td>\n",
       "      <td>279.0</td>\n",
       "      <td>322.0</td>\n",
       "      <td>286.0</td>\n",
       "      <td>887.0</td>\n",
       "      <td>Multicultural High School</td>\n",
       "      <td>44.000000</td>\n",
       "      <td>44.000000</td>\n",
       "      <td>...</td>\n",
       "      <td>999 Jamaica Avenue\\nBrooklyn, NY 11208\\n(40.69...</td>\n",
       "      <td>5.000000</td>\n",
       "      <td>37.000000</td>\n",
       "      <td>1180.000000</td>\n",
       "      <td>3.090738e+06</td>\n",
       "      <td>3.040940e+09</td>\n",
       "      <td>park-cemetery-etc-Brooklyn                    ...</td>\n",
       "      <td>40.691144</td>\n",
       "      <td>-73.868426</td>\n",
       "      <td>19</td>\n",
       "    </tr>\n",
       "    <tr>\n",
       "      <th>286</th>\n",
       "      <td>24Q296</td>\n",
       "      <td>PAN AMERICAN INTERNATIONAL HIGH SCHOOL</td>\n",
       "      <td>55</td>\n",
       "      <td>317.0</td>\n",
       "      <td>323.0</td>\n",
       "      <td>311.0</td>\n",
       "      <td>951.0</td>\n",
       "      <td>0</td>\n",
       "      <td>129.028846</td>\n",
       "      <td>197.038462</td>\n",
       "      <td>...</td>\n",
       "      <td>45 10 94Th Street\\nElmhurst, NY 11373\\n(40.743...</td>\n",
       "      <td>4.000000</td>\n",
       "      <td>25.000000</td>\n",
       "      <td>463.000000</td>\n",
       "      <td>4.437166e+06</td>\n",
       "      <td>4.016000e+09</td>\n",
       "      <td>Elmhurst                                      ...</td>\n",
       "      <td>40.743303</td>\n",
       "      <td>-73.870575</td>\n",
       "      <td>24</td>\n",
       "    </tr>\n",
       "  </tbody>\n",
       "</table>\n",
       "<p>8 rows × 166 columns</p>\n",
       "</div>"
      ],
      "text/plain": [
       "        DBN                                        SCHOOL NAME  \\\n",
       "44   02M542                      MANHATTAN BRIDGES HIGH SCHOOL   \n",
       "82   06M348   WASHINGTON HEIGHTS EXPEDITIONARY LEARNING SCHOOL   \n",
       "89   06M552  GREGORIO LUPERON HIGH SCHOOL FOR SCIENCE AND M...   \n",
       "125  09X365                ACADEMY FOR LANGUAGE AND TECHNOLOGY   \n",
       "141  10X342              INTERNATIONAL SCHOOL FOR LIBERAL ARTS   \n",
       "176  12X388   PAN AMERICAN INTERNATIONAL HIGH SCHOOL AT MONROE   \n",
       "253  19K583                          MULTICULTURAL HIGH SCHOOL   \n",
       "286  24Q296             PAN AMERICAN INTERNATIONAL HIGH SCHOOL   \n",
       "\n",
       "    Num of SAT Test Takers  SAT Critical Reading Avg. Score  \\\n",
       "44                      66                            336.0   \n",
       "82                      70                            380.0   \n",
       "89                      56                            339.0   \n",
       "125                     54                            315.0   \n",
       "141                     49                            300.0   \n",
       "176                     30                            321.0   \n",
       "253                     29                            279.0   \n",
       "286                     55                            317.0   \n",
       "\n",
       "     SAT Math Avg. Score  SAT Writing Avg. Score  sat_score  \\\n",
       "44                 378.0                   344.0     1058.0   \n",
       "82                 395.0                   399.0     1174.0   \n",
       "89                 349.0                   326.0     1014.0   \n",
       "125                339.0                   297.0      951.0   \n",
       "141                333.0                   301.0      934.0   \n",
       "176                351.0                   298.0      970.0   \n",
       "253                322.0                   286.0      887.0   \n",
       "286                323.0                   311.0      951.0   \n",
       "\n",
       "                                SchoolName  AP Test Takers   \\\n",
       "44           Manhattan Bridges High School        67.000000   \n",
       "82                                       0       129.028846   \n",
       "89          GREGORIO LUPERON HS SCI & MATH        88.000000   \n",
       "125    Academy for Language and Technology        20.000000   \n",
       "141  International School for Liberal Arts        55.000000   \n",
       "176                                      0       129.028846   \n",
       "253              Multicultural High School        44.000000   \n",
       "286                                      0       129.028846   \n",
       "\n",
       "     Total Exams Taken  ...  \\\n",
       "44          102.000000  ...   \n",
       "82          197.038462  ...   \n",
       "89          138.000000  ...   \n",
       "125          20.000000  ...   \n",
       "141          73.000000  ...   \n",
       "176         197.038462  ...   \n",
       "253          44.000000  ...   \n",
       "286         197.038462  ...   \n",
       "\n",
       "                                            Location 1 Community Board  \\\n",
       "44   525 West 50Th Street\\nNew York, NY 10019\\n(40....        4.000000   \n",
       "82   511 West 182Nd Street\\nNew York, NY 10033\\n(40...       12.000000   \n",
       "89   501 West 165Th\\nNew York, NY 10032\\n(40.838032...        6.792244   \n",
       "125  1700 Macombs Road\\nBronx, NY 10453\\n(40.849102...        5.000000   \n",
       "141  2780 Reservoir Avenue\\nBronx, NY 10468\\n(40.87...        7.000000   \n",
       "176  1300 Boynton Avenue\\nBronx, NY 10472\\n(40.8313...        9.000000   \n",
       "253  999 Jamaica Avenue\\nBrooklyn, NY 11208\\n(40.69...        5.000000   \n",
       "286  45 10 94Th Street\\nElmhurst, NY 11373\\n(40.743...        4.000000   \n",
       "\n",
       "    Council District  Census Tract           BIN           BBL  \\\n",
       "44          3.000000    135.000000  1.083802e+06  1.010790e+09   \n",
       "82         10.000000    269.000000  1.063703e+06  1.021550e+09   \n",
       "89         22.238227   3760.027701  2.587480e+06  2.515083e+09   \n",
       "125        14.000000  21502.000000  2.008460e+06  2.028660e+09   \n",
       "141        11.000000    409.000000  2.015241e+06  2.032470e+09   \n",
       "176        18.000000     56.000000  2.027459e+06  2.038640e+09   \n",
       "253        37.000000   1180.000000  3.090738e+06  3.040940e+09   \n",
       "286        25.000000    463.000000  4.437166e+06  4.016000e+09   \n",
       "\n",
       "                                                   NTA        lat        lon  \\\n",
       "44   Clinton                                       ...  40.765027 -73.992517   \n",
       "82   Washington Heights North                      ...  40.848879 -73.930807   \n",
       "89                                                   0  40.838032 -73.938371   \n",
       "125  University Heights-Morris Heights             ...  40.849102 -73.916088   \n",
       "141  Van Cortlandt Village                         ...  40.870377 -73.898163   \n",
       "176  West Farms-Bronx River                        ...  40.831366 -73.878823   \n",
       "253  park-cemetery-etc-Brooklyn                    ...  40.691144 -73.868426   \n",
       "286  Elmhurst                                      ...  40.743303 -73.870575   \n",
       "\n",
       "     school_dist  \n",
       "44            02  \n",
       "82            06  \n",
       "89            06  \n",
       "125           09  \n",
       "141           10  \n",
       "176           12  \n",
       "253           19  \n",
       "286           24  \n",
       "\n",
       "[8 rows x 166 columns]"
      ]
     },
     "execution_count": 17,
     "metadata": {},
     "output_type": "execute_result"
    }
   ],
   "source": [
    "hispanic_majority_schools = combined[combined['hispanic_per'] > 95]\n",
    "hispanic_majority_schools"
   ]
  },
  {
   "cell_type": "markdown",
   "metadata": {},
   "source": [
    "After finding more information about the school from wikipedia and their respective websites, it was found that these schools are specifically designed to accomodate students from hispanic background, to welcome the newcomers and satisfy the needs of families for knowledge. "
   ]
  },
  {
   "cell_type": "markdown",
   "metadata": {},
   "source": [
    "## Research schools with less than 10% hispanic students"
   ]
  },
  {
   "cell_type": "code",
   "execution_count": 18,
   "metadata": {},
   "outputs": [
    {
     "data": {
      "text/plain": [
       "37                                STUYVESANT HIGH SCHOOL\n",
       "151                         BRONX HIGH SCHOOL OF SCIENCE\n",
       "187                       BROOKLYN TECHNICAL HIGH SCHOOL\n",
       "327    QUEENS HIGH SCHOOL FOR THE SCIENCES AT YORK CO...\n",
       "356                  STATEN ISLAND TECHNICAL HIGH SCHOOL\n",
       "Name: SCHOOL NAME, dtype: object"
      ]
     },
     "execution_count": 18,
     "metadata": {},
     "output_type": "execute_result"
    }
   ],
   "source": [
    "hispanic_minority_schools = combined[(combined['hispanic_per'] < 10) & (combined['sat_score'] > 1800)]\n",
    "hispanic_minority_schools['SCHOOL NAME'].head(10)"
   ]
  },
  {
   "cell_type": "markdown",
   "metadata": {},
   "source": [
    "Findings:\n",
    "- Stuyvesant High Schools is very high profile institution, only bright minds are accepted, because the competition is fierce in this place.\n",
    "- HIGH SCHOOL FOR DUAL LANGUAGE AND ASIAN STUDIES, for students who can speak english and chinese. \n",
    "- Similar to Stuy, only 900 of 30,000 applicants are accepted to this place.\n",
    "- Brooklyn technical high school is one of three specialized high schools under NYCDE. Very elite, probably expensive. \n",
    "- Bedford Academy High schools is small, academically demanding high school. Very demanding. \n",
    "\n",
    "These suggest that Hispanic Minority high schools are very elite and specialized high schools. It is clear why Hispanic students are less common in these places. They must be quite expensive as well. "
   ]
  },
  {
   "cell_type": "markdown",
   "metadata": {},
   "source": [
    "## Exploring Gender and SAT Scores"
   ]
  },
  {
   "cell_type": "code",
   "execution_count": 19,
   "metadata": {},
   "outputs": [
    {
     "data": {
      "text/html": [
       "<div>\n",
       "<style scoped>\n",
       "    .dataframe tbody tr th:only-of-type {\n",
       "        vertical-align: middle;\n",
       "    }\n",
       "\n",
       "    .dataframe tbody tr th {\n",
       "        vertical-align: top;\n",
       "    }\n",
       "\n",
       "    .dataframe thead th {\n",
       "        text-align: right;\n",
       "    }\n",
       "</style>\n",
       "<table border=\"1\" class=\"dataframe\">\n",
       "  <thead>\n",
       "    <tr style=\"text-align: right;\">\n",
       "      <th></th>\n",
       "      <th>sat_score</th>\n",
       "      <th>male_per</th>\n",
       "      <th>female_per</th>\n",
       "    </tr>\n",
       "  </thead>\n",
       "  <tbody>\n",
       "    <tr>\n",
       "      <th>sat_score</th>\n",
       "      <td>1.000000</td>\n",
       "      <td>-0.112062</td>\n",
       "      <td>0.112108</td>\n",
       "    </tr>\n",
       "    <tr>\n",
       "      <th>male_per</th>\n",
       "      <td>-0.112062</td>\n",
       "      <td>1.000000</td>\n",
       "      <td>-1.000000</td>\n",
       "    </tr>\n",
       "    <tr>\n",
       "      <th>female_per</th>\n",
       "      <td>0.112108</td>\n",
       "      <td>-1.000000</td>\n",
       "      <td>1.000000</td>\n",
       "    </tr>\n",
       "  </tbody>\n",
       "</table>\n",
       "</div>"
      ],
      "text/plain": [
       "            sat_score  male_per  female_per\n",
       "sat_score    1.000000 -0.112062    0.112108\n",
       "male_per    -0.112062  1.000000   -1.000000\n",
       "female_per   0.112108 -1.000000    1.000000"
      ]
     },
     "execution_count": 19,
     "metadata": {},
     "output_type": "execute_result"
    }
   ],
   "source": [
    "gender_correlation = combined[['sat_score', 'male_per', 'female_per']].corr()\n",
    "gender_correlation"
   ]
  },
  {
   "cell_type": "markdown",
   "metadata": {},
   "source": [
    "Gender and SAT scores are not correlated at all. It is impossible to say that being male or female is somehow going to affect SAT score. "
   ]
  },
  {
   "cell_type": "markdown",
   "metadata": {},
   "source": [
    "## Female_per and sat_score scatter plot"
   ]
  },
  {
   "cell_type": "code",
   "execution_count": 20,
   "metadata": {},
   "outputs": [
    {
     "data": {
      "image/png": "[encoded data removed]",
      "text/plain": [
       "<Figure size 432x288 with 1 Axes>"
      ]
     },
     "metadata": {
      "needs_background": "light"
     },
     "output_type": "display_data"
    }
   ],
   "source": [
    "combined.plot.scatter('female_per', 'sat_score')\n",
    "plt.show()"
   ]
  },
  {
   "cell_type": "markdown",
   "metadata": {},
   "source": [
    "It is hard to deduct something decisive from this plot. We could say that female percentage is dominant at 40-60% range in most schools. SATs kind of experiences high scores in that range, or 40-80% range. Could this mean that Female Majority schools score high on SATs. We will find out. "
   ]
  },
  {
   "cell_type": "code",
   "execution_count": 21,
   "metadata": {},
   "outputs": [
    {
     "data": {
      "text/html": [
       "<div>\n",
       "<style scoped>\n",
       "    .dataframe tbody tr th:only-of-type {\n",
       "        vertical-align: middle;\n",
       "    }\n",
       "\n",
       "    .dataframe tbody tr th {\n",
       "        vertical-align: top;\n",
       "    }\n",
       "\n",
       "    .dataframe thead th {\n",
       "        text-align: right;\n",
       "    }\n",
       "</style>\n",
       "<table border=\"1\" class=\"dataframe\">\n",
       "  <thead>\n",
       "    <tr style=\"text-align: right;\">\n",
       "      <th></th>\n",
       "      <th>SCHOOL NAME</th>\n",
       "      <th>female_per</th>\n",
       "    </tr>\n",
       "  </thead>\n",
       "  <tbody>\n",
       "    <tr>\n",
       "      <th>5</th>\n",
       "      <td>BARD HIGH SCHOOL EARLY COLLEGE</td>\n",
       "      <td>68.7</td>\n",
       "    </tr>\n",
       "    <tr>\n",
       "      <th>26</th>\n",
       "      <td>ELEANOR ROOSEVELT HIGH SCHOOL</td>\n",
       "      <td>67.5</td>\n",
       "    </tr>\n",
       "    <tr>\n",
       "      <th>60</th>\n",
       "      <td>BEACON HIGH SCHOOL</td>\n",
       "      <td>61.0</td>\n",
       "    </tr>\n",
       "    <tr>\n",
       "      <th>61</th>\n",
       "      <td>FIORELLO H. LAGUARDIA HIGH SCHOOL OF MUSIC &amp; A...</td>\n",
       "      <td>73.6</td>\n",
       "    </tr>\n",
       "    <tr>\n",
       "      <th>302</th>\n",
       "      <td>TOWNSEND HARRIS HIGH SCHOOL</td>\n",
       "      <td>71.1</td>\n",
       "    </tr>\n",
       "  </tbody>\n",
       "</table>\n",
       "</div>"
      ],
      "text/plain": [
       "                                           SCHOOL NAME  female_per\n",
       "5                       BARD HIGH SCHOOL EARLY COLLEGE        68.7\n",
       "26                       ELEANOR ROOSEVELT HIGH SCHOOL        67.5\n",
       "60                                  BEACON HIGH SCHOOL        61.0\n",
       "61   FIORELLO H. LAGUARDIA HIGH SCHOOL OF MUSIC & A...        73.6\n",
       "302                        TOWNSEND HARRIS HIGH SCHOOL        71.1"
      ]
     },
     "execution_count": 21,
     "metadata": {},
     "output_type": "execute_result"
    }
   ],
   "source": [
    "female_majority_schools = combined[(combined['female_per'] > 60) & (combined['sat_score'] > 1700)]\n",
    "female_majority_schools[['SCHOOL NAME','female_per']]"
   ]
  },
  {
   "cell_type": "markdown",
   "metadata": {},
   "source": [
    "- Bard High school early college is reputable alternative publuc secondary high school. Interestingly, it offers alternative education, which uses different pedagogy methods to those traditional ones. established in 2001\n",
    "- Eleanor Roosevelt High School: could not find nothing special about this school, except that it was established in 2002\n",
    "- Beacon High School: Selective college-preparatory public high schools. \n",
    "- Fiorello Laguardia is specialized in visual arts and performing arts.\n",
    "- Townsend Harris high school is specialied for the humanities. \n",
    "\n",
    "> **we can see that these high schools are specialized in liberal arts, rather than science.**"
   ]
  },
  {
   "cell_type": "markdown",
   "metadata": {},
   "source": [
    "## Exploring AP Scores vs SAT Scores"
   ]
  },
  {
   "cell_type": "markdown",
   "metadata": {},
   "source": [
    "In the U.S., high school students take Advanced Placement (AP) exams to earn college credit. There are AP exams for many different subjects.\n",
    "\n",
    "It makes sense that the number of students at a school who took AP exams would be highly correlated with the school's SAT scores. Let's explore this relationship. Because total_enrollment is highly correlated with sat_score, we don't want to bias our results. Instead, we'll look at the percentage of students in each school who took at least one AP exam."
   ]
  },
  {
   "cell_type": "code",
   "execution_count": 22,
   "metadata": {},
   "outputs": [
    {
     "name": "stdout",
     "output_type": "stream",
     "text": [
      "             ap_per  sat_score\n",
      "ap_per     1.000000   0.057171\n",
      "sat_score  0.057171   1.000000\n"
     ]
    },
    {
     "data": {
      "image/png": "[encoded data removed]",
      "text/plain": [
       "<Figure size 432x288 with 1 Axes>"
      ]
     },
     "metadata": {
      "needs_background": "light"
     },
     "output_type": "display_data"
    }
   ],
   "source": [
    "combined['ap_per'] = combined['AP Test Takers '] / combined['total_enrollment']\n",
    "combined.plot.scatter('ap_per', 'sat_score')\n",
    "print(combined[['ap_per', 'sat_score']].corr())\n",
    "plt.show()"
   ]
  },
  {
   "cell_type": "markdown",
   "metadata": {},
   "source": [
    "There is no strong relationship between these two cols. Although, as the proportion of AP test takers increase, there is an overall increase in SAT scores as well, but it is not predominant. "
   ]
  },
  {
   "cell_type": "markdown",
   "metadata": {},
   "source": [
    "## Next Steps\n",
    "\n",
    "We've done quite a bit of investigation into relationships between demographics and SAT scores in this guided project. There's still quite a bit of analysis left to do, however. Here are some potential next steps:\n",
    "\n",
    "- Determing wheter there's a correlation between class size and SAT scores\n",
    "- Figuring out which neighborhoods have the best schools\n",
    "    - If we combine this information with a dataset containing property values, we could find the least expensive neighborhoods that have good schools.\n",
    "- Investigating the differences between parent, teacher, and student responses to surveys.\n",
    "- Assigning scores to schools based on sat_score and other attributes.\n",
    "\n",
    "We recommend creating a [GitHub](https://github.com/) repository and placing this project there. It will help other people see your work, including employers. As you start to put multiple projects on GitHub, you'll have the beginnings of a strong portfolio.\n",
    "\n",
    "You're welcome to keep working on the project here, but we recommend downloading it to your computer using the download icon above and working on it there."
   ]
  },
  {
   "cell_type": "markdown",
   "metadata": {},
   "source": [
    "## Class size and SAT Score correlation"
   ]
  },
  {
   "cell_type": "code",
   "execution_count": 23,
   "metadata": {},
   "outputs": [],
   "source": [
    "class_size_cols = data['class_size'].columns.tolist()\n",
    "class_size_cols.append('sat_score')"
   ]
  },
  {
   "cell_type": "code",
   "execution_count": 24,
   "metadata": {},
   "outputs": [
    {
     "data": {
      "text/plain": [
       "CSD                                  0.042948\n",
       "NUMBER OF STUDENTS / SEATS FILLED    0.394626\n",
       "NUMBER OF SECTIONS                   0.362673\n",
       "AVERAGE CLASS SIZE                   0.381014\n",
       "SIZE OF SMALLEST CLASS               0.249949\n",
       "SIZE OF LARGEST CLASS                0.314434\n",
       "SCHOOLWIDE PUPIL-TEACHER RATIO            NaN\n",
       "sat_score                            1.000000\n",
       "Name: sat_score, dtype: float64"
      ]
     },
     "execution_count": 24,
     "metadata": {},
     "output_type": "execute_result"
    }
   ],
   "source": [
    "combined[class_size_cols].corr()['sat_score']"
   ]
  },
  {
   "cell_type": "markdown",
   "metadata": {},
   "source": [
    "There seems to be a little correlation between class size and sat score. The bigger the Class size, the higher the SAT. Lets look at the scatter plot. "
   ]
  },
  {
   "cell_type": "code",
   "execution_count": 25,
   "metadata": {},
   "outputs": [
    {
     "data": {
      "image/png": "[encoded data removed]",
      "text/plain": [
       "<Figure size 432x288 with 1 Axes>"
      ]
     },
     "metadata": {
      "needs_background": "light"
     },
     "output_type": "display_data"
    }
   ],
   "source": [
    "combined.plot.scatter('AVERAGE CLASS SIZE', 'sat_score')\n",
    "plt.show()"
   ]
  },
  {
   "cell_type": "markdown",
   "metadata": {},
   "source": [
    "## Finding Neighborhood with best schools. "
   ]
  },
  {
   "attachments": {},
   "cell_type": "markdown",
   "metadata": {},
   "source": [
    "In order to identify the best neighborhood in terms of best schools, we need to choose the cols that could potentially describe the quality of school. \n",
    "\n",
    "> Possible cols:\n",
    "- Survey data cols.\n",
    "    - saf_p_10\n",
    "    - com_p_10\n",
    "    - eng_p_10\n",
    "    - aca_p_10\n",
    "    - saf_t_10\n",
    "    - com_t_10\n",
    "    - eng_t_10\n",
    "    - aca_t_10\n",
    "    - saf_s_10\n",
    "    - com_s_10\n",
    "    - eng_s_10\n",
    "    - aca_s_10\n",
    "    - saf_tot_10\n",
    "    - com_tot_10\n",
    "    - eng_tot_10\n",
    "- sat_score.\n",
    "- ap_per. "
   ]
  },
  {
   "cell_type": "code",
   "execution_count": 26,
   "metadata": {},
   "outputs": [
    {
     "data": {
      "text/html": [
       "<div>\n",
       "<style scoped>\n",
       "    .dataframe tbody tr th:only-of-type {\n",
       "        vertical-align: middle;\n",
       "    }\n",
       "\n",
       "    .dataframe tbody tr th {\n",
       "        vertical-align: top;\n",
       "    }\n",
       "\n",
       "    .dataframe thead th {\n",
       "        text-align: right;\n",
       "    }\n",
       "</style>\n",
       "<table border=\"1\" class=\"dataframe\">\n",
       "  <thead>\n",
       "    <tr style=\"text-align: right;\">\n",
       "      <th></th>\n",
       "      <th>sat_score</th>\n",
       "      <th>ap_per</th>\n",
       "      <th>saf_p_11</th>\n",
       "      <th>com_p_11</th>\n",
       "      <th>eng_p_11</th>\n",
       "      <th>aca_p_11</th>\n",
       "      <th>saf_t_11</th>\n",
       "      <th>com_t_11</th>\n",
       "      <th>eng_t_11</th>\n",
       "      <th>aca_t_11</th>\n",
       "      <th>saf_s_11</th>\n",
       "      <th>com_s_11</th>\n",
       "      <th>eng_s_11</th>\n",
       "      <th>aca_s_11</th>\n",
       "      <th>saf_tot_11</th>\n",
       "      <th>com_tot_11</th>\n",
       "      <th>eng_tot_11</th>\n",
       "      <th>aca_tot_11</th>\n",
       "    </tr>\n",
       "  </thead>\n",
       "  <tbody>\n",
       "    <tr>\n",
       "      <th>0</th>\n",
       "      <td>1122.0</td>\n",
       "      <td>0.305756</td>\n",
       "      <td>7.8</td>\n",
       "      <td>7.7</td>\n",
       "      <td>7.4</td>\n",
       "      <td>7.6</td>\n",
       "      <td>6.3</td>\n",
       "      <td>5.3</td>\n",
       "      <td>6.1</td>\n",
       "      <td>6.5</td>\n",
       "      <td>6.000000</td>\n",
       "      <td>5.600000</td>\n",
       "      <td>6.100000</td>\n",
       "      <td>6.700000</td>\n",
       "      <td>6.7</td>\n",
       "      <td>6.2</td>\n",
       "      <td>6.6</td>\n",
       "      <td>7.0</td>\n",
       "    </tr>\n",
       "    <tr>\n",
       "      <th>1</th>\n",
       "      <td>1172.0</td>\n",
       "      <td>0.098985</td>\n",
       "      <td>7.9</td>\n",
       "      <td>7.4</td>\n",
       "      <td>7.2</td>\n",
       "      <td>7.3</td>\n",
       "      <td>6.6</td>\n",
       "      <td>5.8</td>\n",
       "      <td>6.6</td>\n",
       "      <td>7.3</td>\n",
       "      <td>6.000000</td>\n",
       "      <td>5.700000</td>\n",
       "      <td>6.300000</td>\n",
       "      <td>7.000000</td>\n",
       "      <td>6.8</td>\n",
       "      <td>6.3</td>\n",
       "      <td>6.7</td>\n",
       "      <td>7.2</td>\n",
       "    </tr>\n",
       "    <tr>\n",
       "      <th>2</th>\n",
       "      <td>1149.0</td>\n",
       "      <td>0.031773</td>\n",
       "      <td>8.7</td>\n",
       "      <td>8.2</td>\n",
       "      <td>8.1</td>\n",
       "      <td>8.4</td>\n",
       "      <td>7.3</td>\n",
       "      <td>8.0</td>\n",
       "      <td>8.0</td>\n",
       "      <td>8.8</td>\n",
       "      <td>6.611667</td>\n",
       "      <td>6.094722</td>\n",
       "      <td>6.620278</td>\n",
       "      <td>7.381389</td>\n",
       "      <td>7.9</td>\n",
       "      <td>7.9</td>\n",
       "      <td>7.9</td>\n",
       "      <td>8.4</td>\n",
       "    </tr>\n",
       "    <tr>\n",
       "      <th>3</th>\n",
       "      <td>1207.0</td>\n",
       "      <td>0.351577</td>\n",
       "      <td>7.7</td>\n",
       "      <td>7.4</td>\n",
       "      <td>7.2</td>\n",
       "      <td>7.3</td>\n",
       "      <td>6.4</td>\n",
       "      <td>5.3</td>\n",
       "      <td>6.1</td>\n",
       "      <td>6.8</td>\n",
       "      <td>6.400000</td>\n",
       "      <td>5.900000</td>\n",
       "      <td>6.400000</td>\n",
       "      <td>7.000000</td>\n",
       "      <td>6.9</td>\n",
       "      <td>6.2</td>\n",
       "      <td>6.6</td>\n",
       "      <td>7.0</td>\n",
       "    </tr>\n",
       "    <tr>\n",
       "      <th>4</th>\n",
       "      <td>1621.0</td>\n",
       "      <td>0.158091</td>\n",
       "      <td>8.5</td>\n",
       "      <td>7.9</td>\n",
       "      <td>7.9</td>\n",
       "      <td>8.4</td>\n",
       "      <td>7.6</td>\n",
       "      <td>5.6</td>\n",
       "      <td>5.9</td>\n",
       "      <td>7.3</td>\n",
       "      <td>7.300000</td>\n",
       "      <td>6.400000</td>\n",
       "      <td>7.000000</td>\n",
       "      <td>7.700000</td>\n",
       "      <td>7.8</td>\n",
       "      <td>6.7</td>\n",
       "      <td>6.9</td>\n",
       "      <td>7.8</td>\n",
       "    </tr>\n",
       "  </tbody>\n",
       "</table>\n",
       "</div>"
      ],
      "text/plain": [
       "   sat_score    ap_per  saf_p_11  com_p_11  eng_p_11  aca_p_11  saf_t_11  \\\n",
       "0     1122.0  0.305756       7.8       7.7       7.4       7.6       6.3   \n",
       "1     1172.0  0.098985       7.9       7.4       7.2       7.3       6.6   \n",
       "2     1149.0  0.031773       8.7       8.2       8.1       8.4       7.3   \n",
       "3     1207.0  0.351577       7.7       7.4       7.2       7.3       6.4   \n",
       "4     1621.0  0.158091       8.5       7.9       7.9       8.4       7.6   \n",
       "\n",
       "   com_t_11  eng_t_11  aca_t_11  saf_s_11  com_s_11  eng_s_11  aca_s_11  \\\n",
       "0       5.3       6.1       6.5  6.000000  5.600000  6.100000  6.700000   \n",
       "1       5.8       6.6       7.3  6.000000  5.700000  6.300000  7.000000   \n",
       "2       8.0       8.0       8.8  6.611667  6.094722  6.620278  7.381389   \n",
       "3       5.3       6.1       6.8  6.400000  5.900000  6.400000  7.000000   \n",
       "4       5.6       5.9       7.3  7.300000  6.400000  7.000000  7.700000   \n",
       "\n",
       "   saf_tot_11  com_tot_11  eng_tot_11  aca_tot_11  \n",
       "0         6.7         6.2         6.6         7.0  \n",
       "1         6.8         6.3         6.7         7.2  \n",
       "2         7.9         7.9         7.9         8.4  \n",
       "3         6.9         6.2         6.6         7.0  \n",
       "4         7.8         6.7         6.9         7.8  "
      ]
     },
     "execution_count": 26,
     "metadata": {},
     "output_type": "execute_result"
    }
   ],
   "source": [
    "school_quality_cols = [\n",
    "    'sat_score',\n",
    "    'ap_per',\n",
    "    'saf_p_11',\n",
    "    'com_p_11',\n",
    "    'eng_p_11',\n",
    "    'aca_p_11',\n",
    "    'saf_t_11',\n",
    "    'com_t_11',\n",
    "    'eng_t_11',\n",
    "    'aca_t_11',\n",
    "    'saf_s_11',\n",
    "    'com_s_11',\n",
    "    'eng_s_11',\n",
    "    'aca_s_11',\n",
    "    'saf_tot_11',\n",
    "    'com_tot_11',\n",
    "    'eng_tot_11',\n",
    "    'aca_tot_11']\n",
    "school_quality = combined[school_quality_cols]\n",
    "school_quality.head()"
   ]
  },
  {
   "cell_type": "markdown",
   "metadata": {},
   "source": [
    "In this subset of dataset, we have survey scores, sat_score, and percentage of ap test takers. In order to simplify calculation, we will find average score based on all survey cols. "
   ]
  },
  {
   "cell_type": "code",
   "execution_count": 27,
   "metadata": {},
   "outputs": [
    {
     "name": "stderr",
     "output_type": "stream",
     "text": [
      "/Users/imuminov/anaconda3/envs/NOTEBOOK/lib/python3.7/site-packages/ipykernel_launcher.py:2: SettingWithCopyWarning: \n",
      "A value is trying to be set on a copy of a slice from a DataFrame.\n",
      "Try using .loc[row_indexer,col_indexer] = value instead\n",
      "\n",
      "See the caveats in the documentation: http://pandas.pydata.org/pandas-docs/stable/user_guide/indexing.html#returning-a-view-versus-a-copy\n",
      "  \n"
     ]
    }
   ],
   "source": [
    "survey_cols = school_quality.iloc[:, 2:].copy()\n",
    "school_quality['quality_score'] = survey_cols.sum(axis=1) / survey_cols.shape[1]"
   ]
  },
  {
   "cell_type": "code",
   "execution_count": 28,
   "metadata": {},
   "outputs": [
    {
     "data": {
      "text/html": [
       "<div>\n",
       "<style scoped>\n",
       "    .dataframe tbody tr th:only-of-type {\n",
       "        vertical-align: middle;\n",
       "    }\n",
       "\n",
       "    .dataframe tbody tr th {\n",
       "        vertical-align: top;\n",
       "    }\n",
       "\n",
       "    .dataframe thead th {\n",
       "        text-align: right;\n",
       "    }\n",
       "</style>\n",
       "<table border=\"1\" class=\"dataframe\">\n",
       "  <thead>\n",
       "    <tr style=\"text-align: right;\">\n",
       "      <th></th>\n",
       "      <th>sat_score</th>\n",
       "      <th>ap_per</th>\n",
       "      <th>saf_p_11</th>\n",
       "      <th>com_p_11</th>\n",
       "      <th>eng_p_11</th>\n",
       "      <th>aca_p_11</th>\n",
       "      <th>saf_t_11</th>\n",
       "      <th>com_t_11</th>\n",
       "      <th>eng_t_11</th>\n",
       "      <th>aca_t_11</th>\n",
       "      <th>saf_s_11</th>\n",
       "      <th>com_s_11</th>\n",
       "      <th>eng_s_11</th>\n",
       "      <th>aca_s_11</th>\n",
       "      <th>saf_tot_11</th>\n",
       "      <th>com_tot_11</th>\n",
       "      <th>eng_tot_11</th>\n",
       "      <th>aca_tot_11</th>\n",
       "      <th>quality_score</th>\n",
       "    </tr>\n",
       "  </thead>\n",
       "  <tbody>\n",
       "    <tr>\n",
       "      <th>0</th>\n",
       "      <td>1122.0</td>\n",
       "      <td>0.305756</td>\n",
       "      <td>7.8</td>\n",
       "      <td>7.7</td>\n",
       "      <td>7.4</td>\n",
       "      <td>7.6</td>\n",
       "      <td>6.3</td>\n",
       "      <td>5.3</td>\n",
       "      <td>6.1</td>\n",
       "      <td>6.5</td>\n",
       "      <td>6.000000</td>\n",
       "      <td>5.600000</td>\n",
       "      <td>6.100000</td>\n",
       "      <td>6.700000</td>\n",
       "      <td>6.7</td>\n",
       "      <td>6.2</td>\n",
       "      <td>6.6</td>\n",
       "      <td>7.0</td>\n",
       "      <td>6.600000</td>\n",
       "    </tr>\n",
       "    <tr>\n",
       "      <th>1</th>\n",
       "      <td>1172.0</td>\n",
       "      <td>0.098985</td>\n",
       "      <td>7.9</td>\n",
       "      <td>7.4</td>\n",
       "      <td>7.2</td>\n",
       "      <td>7.3</td>\n",
       "      <td>6.6</td>\n",
       "      <td>5.8</td>\n",
       "      <td>6.6</td>\n",
       "      <td>7.3</td>\n",
       "      <td>6.000000</td>\n",
       "      <td>5.700000</td>\n",
       "      <td>6.300000</td>\n",
       "      <td>7.000000</td>\n",
       "      <td>6.8</td>\n",
       "      <td>6.3</td>\n",
       "      <td>6.7</td>\n",
       "      <td>7.2</td>\n",
       "      <td>6.756250</td>\n",
       "    </tr>\n",
       "    <tr>\n",
       "      <th>2</th>\n",
       "      <td>1149.0</td>\n",
       "      <td>0.031773</td>\n",
       "      <td>8.7</td>\n",
       "      <td>8.2</td>\n",
       "      <td>8.1</td>\n",
       "      <td>8.4</td>\n",
       "      <td>7.3</td>\n",
       "      <td>8.0</td>\n",
       "      <td>8.0</td>\n",
       "      <td>8.8</td>\n",
       "      <td>6.611667</td>\n",
       "      <td>6.094722</td>\n",
       "      <td>6.620278</td>\n",
       "      <td>7.381389</td>\n",
       "      <td>7.9</td>\n",
       "      <td>7.9</td>\n",
       "      <td>7.9</td>\n",
       "      <td>8.4</td>\n",
       "      <td>7.769253</td>\n",
       "    </tr>\n",
       "    <tr>\n",
       "      <th>3</th>\n",
       "      <td>1207.0</td>\n",
       "      <td>0.351577</td>\n",
       "      <td>7.7</td>\n",
       "      <td>7.4</td>\n",
       "      <td>7.2</td>\n",
       "      <td>7.3</td>\n",
       "      <td>6.4</td>\n",
       "      <td>5.3</td>\n",
       "      <td>6.1</td>\n",
       "      <td>6.8</td>\n",
       "      <td>6.400000</td>\n",
       "      <td>5.900000</td>\n",
       "      <td>6.400000</td>\n",
       "      <td>7.000000</td>\n",
       "      <td>6.9</td>\n",
       "      <td>6.2</td>\n",
       "      <td>6.6</td>\n",
       "      <td>7.0</td>\n",
       "      <td>6.662500</td>\n",
       "    </tr>\n",
       "    <tr>\n",
       "      <th>4</th>\n",
       "      <td>1621.0</td>\n",
       "      <td>0.158091</td>\n",
       "      <td>8.5</td>\n",
       "      <td>7.9</td>\n",
       "      <td>7.9</td>\n",
       "      <td>8.4</td>\n",
       "      <td>7.6</td>\n",
       "      <td>5.6</td>\n",
       "      <td>5.9</td>\n",
       "      <td>7.3</td>\n",
       "      <td>7.300000</td>\n",
       "      <td>6.400000</td>\n",
       "      <td>7.000000</td>\n",
       "      <td>7.700000</td>\n",
       "      <td>7.8</td>\n",
       "      <td>6.7</td>\n",
       "      <td>6.9</td>\n",
       "      <td>7.8</td>\n",
       "      <td>7.293750</td>\n",
       "    </tr>\n",
       "  </tbody>\n",
       "</table>\n",
       "</div>"
      ],
      "text/plain": [
       "   sat_score    ap_per  saf_p_11  com_p_11  eng_p_11  aca_p_11  saf_t_11  \\\n",
       "0     1122.0  0.305756       7.8       7.7       7.4       7.6       6.3   \n",
       "1     1172.0  0.098985       7.9       7.4       7.2       7.3       6.6   \n",
       "2     1149.0  0.031773       8.7       8.2       8.1       8.4       7.3   \n",
       "3     1207.0  0.351577       7.7       7.4       7.2       7.3       6.4   \n",
       "4     1621.0  0.158091       8.5       7.9       7.9       8.4       7.6   \n",
       "\n",
       "   com_t_11  eng_t_11  aca_t_11  saf_s_11  com_s_11  eng_s_11  aca_s_11  \\\n",
       "0       5.3       6.1       6.5  6.000000  5.600000  6.100000  6.700000   \n",
       "1       5.8       6.6       7.3  6.000000  5.700000  6.300000  7.000000   \n",
       "2       8.0       8.0       8.8  6.611667  6.094722  6.620278  7.381389   \n",
       "3       5.3       6.1       6.8  6.400000  5.900000  6.400000  7.000000   \n",
       "4       5.6       5.9       7.3  7.300000  6.400000  7.000000  7.700000   \n",
       "\n",
       "   saf_tot_11  com_tot_11  eng_tot_11  aca_tot_11  quality_score  \n",
       "0         6.7         6.2         6.6         7.0       6.600000  \n",
       "1         6.8         6.3         6.7         7.2       6.756250  \n",
       "2         7.9         7.9         7.9         8.4       7.769253  \n",
       "3         6.9         6.2         6.6         7.0       6.662500  \n",
       "4         7.8         6.7         6.9         7.8       7.293750  "
      ]
     },
     "execution_count": 28,
     "metadata": {},
     "output_type": "execute_result"
    }
   ],
   "source": [
    "school_quality.head()"
   ]
  },
  {
   "cell_type": "markdown",
   "metadata": {},
   "source": [
    "Because we calculated the overall quality score, we will only keep cols sat_score, ap_per, and quality_score. "
   ]
  },
  {
   "cell_type": "code",
   "execution_count": 29,
   "metadata": {},
   "outputs": [
    {
     "data": {
      "text/html": [
       "<div>\n",
       "<style scoped>\n",
       "    .dataframe tbody tr th:only-of-type {\n",
       "        vertical-align: middle;\n",
       "    }\n",
       "\n",
       "    .dataframe tbody tr th {\n",
       "        vertical-align: top;\n",
       "    }\n",
       "\n",
       "    .dataframe thead th {\n",
       "        text-align: right;\n",
       "    }\n",
       "</style>\n",
       "<table border=\"1\" class=\"dataframe\">\n",
       "  <thead>\n",
       "    <tr style=\"text-align: right;\">\n",
       "      <th></th>\n",
       "      <th>sat_score</th>\n",
       "      <th>ap_per</th>\n",
       "      <th>quality_score</th>\n",
       "    </tr>\n",
       "  </thead>\n",
       "  <tbody>\n",
       "    <tr>\n",
       "      <th>0</th>\n",
       "      <td>1122.0</td>\n",
       "      <td>0.305756</td>\n",
       "      <td>6.600000</td>\n",
       "    </tr>\n",
       "    <tr>\n",
       "      <th>1</th>\n",
       "      <td>1172.0</td>\n",
       "      <td>0.098985</td>\n",
       "      <td>6.756250</td>\n",
       "    </tr>\n",
       "    <tr>\n",
       "      <th>2</th>\n",
       "      <td>1149.0</td>\n",
       "      <td>0.031773</td>\n",
       "      <td>7.769253</td>\n",
       "    </tr>\n",
       "    <tr>\n",
       "      <th>3</th>\n",
       "      <td>1207.0</td>\n",
       "      <td>0.351577</td>\n",
       "      <td>6.662500</td>\n",
       "    </tr>\n",
       "    <tr>\n",
       "      <th>4</th>\n",
       "      <td>1621.0</td>\n",
       "      <td>0.158091</td>\n",
       "      <td>7.293750</td>\n",
       "    </tr>\n",
       "  </tbody>\n",
       "</table>\n",
       "</div>"
      ],
      "text/plain": [
       "   sat_score    ap_per  quality_score\n",
       "0     1122.0  0.305756       6.600000\n",
       "1     1172.0  0.098985       6.756250\n",
       "2     1149.0  0.031773       7.769253\n",
       "3     1207.0  0.351577       6.662500\n",
       "4     1621.0  0.158091       7.293750"
      ]
     },
     "execution_count": 29,
     "metadata": {},
     "output_type": "execute_result"
    }
   ],
   "source": [
    "school_quality = school_quality[['sat_score', 'ap_per', 'quality_score']]\n",
    "school_quality.head()"
   ]
  },
  {
   "cell_type": "markdown",
   "metadata": {},
   "source": [
    "Now we have the factors that tell about the school quality, we need to find a way to standardize the scores, in order to rank them. A good way is to go with percentages. So our standardized score will be between 0 and 100. \n",
    "\n",
    "- ap_per column is already in percentage, only needs to be multiplied by 100.\n",
    "- sat_score needs to be converted to percentage. We know that maximum score is 2400 for SAT, so converting is easy-peasy. \n",
    "- and for quality, also easy, just need to multiply by 10, because the score in 0 to 10 range. \n",
    "\n",
    "After that, we will create single column for overall school quality rank. we will call it school_score\n"
   ]
  },
  {
   "cell_type": "code",
   "execution_count": 30,
   "metadata": {},
   "outputs": [
    {
     "data": {
      "text/html": [
       "<div>\n",
       "<style scoped>\n",
       "    .dataframe tbody tr th:only-of-type {\n",
       "        vertical-align: middle;\n",
       "    }\n",
       "\n",
       "    .dataframe tbody tr th {\n",
       "        vertical-align: top;\n",
       "    }\n",
       "\n",
       "    .dataframe thead th {\n",
       "        text-align: right;\n",
       "    }\n",
       "</style>\n",
       "<table border=\"1\" class=\"dataframe\">\n",
       "  <thead>\n",
       "    <tr style=\"text-align: right;\">\n",
       "      <th></th>\n",
       "      <th>sat_score</th>\n",
       "      <th>ap_per</th>\n",
       "      <th>quality_score</th>\n",
       "      <th>school_score</th>\n",
       "    </tr>\n",
       "  </thead>\n",
       "  <tbody>\n",
       "    <tr>\n",
       "      <th>0</th>\n",
       "      <td>46.750000</td>\n",
       "      <td>30.575556</td>\n",
       "      <td>66.000000</td>\n",
       "      <td>47.775185</td>\n",
       "    </tr>\n",
       "    <tr>\n",
       "      <th>1</th>\n",
       "      <td>48.833333</td>\n",
       "      <td>9.898477</td>\n",
       "      <td>67.562500</td>\n",
       "      <td>42.098103</td>\n",
       "    </tr>\n",
       "    <tr>\n",
       "      <th>2</th>\n",
       "      <td>47.875000</td>\n",
       "      <td>3.177258</td>\n",
       "      <td>77.692535</td>\n",
       "      <td>42.914931</td>\n",
       "    </tr>\n",
       "    <tr>\n",
       "      <th>3</th>\n",
       "      <td>50.291667</td>\n",
       "      <td>35.157724</td>\n",
       "      <td>66.625000</td>\n",
       "      <td>50.691463</td>\n",
       "    </tr>\n",
       "    <tr>\n",
       "      <th>4</th>\n",
       "      <td>67.541667</td>\n",
       "      <td>15.809051</td>\n",
       "      <td>72.937500</td>\n",
       "      <td>52.096073</td>\n",
       "    </tr>\n",
       "  </tbody>\n",
       "</table>\n",
       "</div>"
      ],
      "text/plain": [
       "   sat_score     ap_per  quality_score  school_score\n",
       "0  46.750000  30.575556      66.000000     47.775185\n",
       "1  48.833333   9.898477      67.562500     42.098103\n",
       "2  47.875000   3.177258      77.692535     42.914931\n",
       "3  50.291667  35.157724      66.625000     50.691463\n",
       "4  67.541667  15.809051      72.937500     52.096073"
      ]
     },
     "execution_count": 30,
     "metadata": {},
     "output_type": "execute_result"
    }
   ],
   "source": [
    "# standardizing cols to percentage \n",
    "school_quality['ap_per'] = school_quality['ap_per'] * 100\n",
    "school_quality['sat_score'] = school_quality['sat_score'] / 2400 * 100\n",
    "school_quality['quality_score'] = school_quality['quality_score'] * 10\n",
    "\n",
    "\n",
    "# adding school_score col: averageof all three cols. \n",
    "school_quality['school_score'] = (school_quality['quality_score'] + \n",
    "                                  school_quality['sat_score'] + \n",
    "                                  school_quality['ap_per']) / 3\n",
    "\n",
    "\n",
    "school_quality.head()"
   ]
  },
  {
   "cell_type": "markdown",
   "metadata": {},
   "source": [
    "Now we have school_score col, we will add this to combined dataset, and print top 10 schools by school_score. "
   ]
  },
  {
   "cell_type": "code",
   "execution_count": 31,
   "metadata": {},
   "outputs": [],
   "source": [
    "import IPython.display"
   ]
  },
  {
   "cell_type": "code",
   "execution_count": 32,
   "metadata": {},
   "outputs": [
    {
     "data": {
      "text/html": [
       "<div>\n",
       "<style scoped>\n",
       "    .dataframe tbody tr th:only-of-type {\n",
       "        vertical-align: middle;\n",
       "    }\n",
       "\n",
       "    .dataframe tbody tr th {\n",
       "        vertical-align: top;\n",
       "    }\n",
       "\n",
       "    .dataframe thead th {\n",
       "        text-align: right;\n",
       "    }\n",
       "</style>\n",
       "<table border=\"1\" class=\"dataframe\">\n",
       "  <thead>\n",
       "    <tr style=\"text-align: right;\">\n",
       "      <th></th>\n",
       "      <th>index</th>\n",
       "      <th>SCHOOL NAME</th>\n",
       "      <th>school_score</th>\n",
       "    </tr>\n",
       "  </thead>\n",
       "  <tbody>\n",
       "    <tr>\n",
       "      <th>0</th>\n",
       "      <td>335</td>\n",
       "      <td>CAMBRIA HEIGHTS ACADEMY</td>\n",
       "      <td>73.167114</td>\n",
       "    </tr>\n",
       "    <tr>\n",
       "      <th>1</th>\n",
       "      <td>111</td>\n",
       "      <td>BRONX BRIDGES HIGH SCHOOL</td>\n",
       "      <td>71.573678</td>\n",
       "    </tr>\n",
       "    <tr>\n",
       "      <th>2</th>\n",
       "      <td>155</td>\n",
       "      <td>HIGH SCHOOL OF AMERICAN STUDIES AT LEHMAN COLLEGE</td>\n",
       "      <td>71.298795</td>\n",
       "    </tr>\n",
       "    <tr>\n",
       "      <th>3</th>\n",
       "      <td>356</td>\n",
       "      <td>STATEN ISLAND TECHNICAL HIGH SCHOOL</td>\n",
       "      <td>70.712862</td>\n",
       "    </tr>\n",
       "    <tr>\n",
       "      <th>4</th>\n",
       "      <td>302</td>\n",
       "      <td>TOWNSEND HARRIS HIGH SCHOOL</td>\n",
       "      <td>69.451754</td>\n",
       "    </tr>\n",
       "    <tr>\n",
       "      <th>5</th>\n",
       "      <td>31</td>\n",
       "      <td>MANHATTAN ACADEMY FOR ARTS &amp; LANGUAGE</td>\n",
       "      <td>69.319129</td>\n",
       "    </tr>\n",
       "    <tr>\n",
       "      <th>6</th>\n",
       "      <td>37</td>\n",
       "      <td>STUYVESANT HIGH SCHOOL</td>\n",
       "      <td>68.252515</td>\n",
       "    </tr>\n",
       "    <tr>\n",
       "      <th>7</th>\n",
       "      <td>327</td>\n",
       "      <td>QUEENS HIGH SCHOOL FOR THE SCIENCES AT YORK CO...</td>\n",
       "      <td>67.839580</td>\n",
       "    </tr>\n",
       "    <tr>\n",
       "      <th>8</th>\n",
       "      <td>83</td>\n",
       "      <td>HIGH SCHOOL FOR EXCELLENCE AND INNOVATION</td>\n",
       "      <td>67.613244</td>\n",
       "    </tr>\n",
       "    <tr>\n",
       "      <th>9</th>\n",
       "      <td>33</td>\n",
       "      <td>INTERNATIONAL HIGH SCHOOL AT UNION SQUARE</td>\n",
       "      <td>67.304487</td>\n",
       "    </tr>\n",
       "  </tbody>\n",
       "</table>\n",
       "</div>"
      ],
      "text/plain": [
       "   index                                        SCHOOL NAME  school_score\n",
       "0    335                            CAMBRIA HEIGHTS ACADEMY     73.167114\n",
       "1    111                          BRONX BRIDGES HIGH SCHOOL     71.573678\n",
       "2    155  HIGH SCHOOL OF AMERICAN STUDIES AT LEHMAN COLLEGE     71.298795\n",
       "3    356                STATEN ISLAND TECHNICAL HIGH SCHOOL     70.712862\n",
       "4    302                        TOWNSEND HARRIS HIGH SCHOOL     69.451754\n",
       "5     31              MANHATTAN ACADEMY FOR ARTS & LANGUAGE     69.319129\n",
       "6     37                             STUYVESANT HIGH SCHOOL     68.252515\n",
       "7    327  QUEENS HIGH SCHOOL FOR THE SCIENCES AT YORK CO...     67.839580\n",
       "8     83          HIGH SCHOOL FOR EXCELLENCE AND INNOVATION     67.613244\n",
       "9     33          INTERNATIONAL HIGH SCHOOL AT UNION SQUARE     67.304487"
      ]
     },
     "metadata": {},
     "output_type": "display_data"
    },
    {
     "data": {
      "text/html": [
       "<div>\n",
       "<style scoped>\n",
       "    .dataframe tbody tr th:only-of-type {\n",
       "        vertical-align: middle;\n",
       "    }\n",
       "\n",
       "    .dataframe tbody tr th {\n",
       "        vertical-align: top;\n",
       "    }\n",
       "\n",
       "    .dataframe thead th {\n",
       "        text-align: right;\n",
       "    }\n",
       "</style>\n",
       "<table border=\"1\" class=\"dataframe\">\n",
       "  <thead>\n",
       "    <tr style=\"text-align: right;\">\n",
       "      <th></th>\n",
       "      <th>index</th>\n",
       "      <th>SCHOOL NAME</th>\n",
       "      <th>school_score</th>\n",
       "    </tr>\n",
       "  </thead>\n",
       "  <tbody>\n",
       "    <tr>\n",
       "      <th>0</th>\n",
       "      <td>253</td>\n",
       "      <td>MULTICULTURAL HIGH SCHOOL</td>\n",
       "      <td>38.848591</td>\n",
       "    </tr>\n",
       "    <tr>\n",
       "      <th>1</th>\n",
       "      <td>331</td>\n",
       "      <td>PATHWAYS COLLEGE PREPARATORY SCHOOL: A COLLEGE...</td>\n",
       "      <td>38.825075</td>\n",
       "    </tr>\n",
       "    <tr>\n",
       "      <th>2</th>\n",
       "      <td>358</td>\n",
       "      <td>EBC HIGH SCHOOL FOR PUBLIC SERVICE–BUSHWICK</td>\n",
       "      <td>38.758870</td>\n",
       "    </tr>\n",
       "    <tr>\n",
       "      <th>3</th>\n",
       "      <td>75</td>\n",
       "      <td>ACADEMY FOR SOCIAL ACTION: A COLLEGE BOARD SCHOOL</td>\n",
       "      <td>38.479167</td>\n",
       "    </tr>\n",
       "    <tr>\n",
       "      <th>4</th>\n",
       "      <td>159</td>\n",
       "      <td>ACADEMY FOR SCHOLARSHIP AND ENTREPRENEURSHIP: ...</td>\n",
       "      <td>38.125688</td>\n",
       "    </tr>\n",
       "    <tr>\n",
       "      <th>5</th>\n",
       "      <td>101</td>\n",
       "      <td>ALFRED E. SMITH CAREER AND TECHNICAL EDUCATION...</td>\n",
       "      <td>37.871838</td>\n",
       "    </tr>\n",
       "    <tr>\n",
       "      <th>6</th>\n",
       "      <td>220</td>\n",
       "      <td>BOYS AND GIRLS HIGH SCHOOL</td>\n",
       "      <td>37.852400</td>\n",
       "    </tr>\n",
       "    <tr>\n",
       "      <th>7</th>\n",
       "      <td>65</td>\n",
       "      <td>FREDERICK DOUGLASS ACADEMY II SECONDARY SCHOOL</td>\n",
       "      <td>37.318368</td>\n",
       "    </tr>\n",
       "    <tr>\n",
       "      <th>8</th>\n",
       "      <td>315</td>\n",
       "      <td>AUGUST MARTIN HIGH SCHOOL</td>\n",
       "      <td>36.400207</td>\n",
       "    </tr>\n",
       "    <tr>\n",
       "      <th>9</th>\n",
       "      <td>306</td>\n",
       "      <td>MARTIN VAN BUREN HIGH SCHOOL</td>\n",
       "      <td>36.393015</td>\n",
       "    </tr>\n",
       "  </tbody>\n",
       "</table>\n",
       "</div>"
      ],
      "text/plain": [
       "   index                                        SCHOOL NAME  school_score\n",
       "0    253                          MULTICULTURAL HIGH SCHOOL     38.848591\n",
       "1    331  PATHWAYS COLLEGE PREPARATORY SCHOOL: A COLLEGE...     38.825075\n",
       "2    358        EBC HIGH SCHOOL FOR PUBLIC SERVICE–BUSHWICK     38.758870\n",
       "3     75  ACADEMY FOR SOCIAL ACTION: A COLLEGE BOARD SCHOOL     38.479167\n",
       "4    159  ACADEMY FOR SCHOLARSHIP AND ENTREPRENEURSHIP: ...     38.125688\n",
       "5    101  ALFRED E. SMITH CAREER AND TECHNICAL EDUCATION...     37.871838\n",
       "6    220                         BOYS AND GIRLS HIGH SCHOOL     37.852400\n",
       "7     65     FREDERICK DOUGLASS ACADEMY II SECONDARY SCHOOL     37.318368\n",
       "8    315                          AUGUST MARTIN HIGH SCHOOL     36.400207\n",
       "9    306                       MARTIN VAN BUREN HIGH SCHOOL     36.393015"
      ]
     },
     "metadata": {},
     "output_type": "display_data"
    }
   ],
   "source": [
    "combined['school_score'] = school_quality['school_score']\n",
    "school_score = combined[['SCHOOL NAME', 'school_score']].sort_values('school_score', ascending=False)\n",
    "top10_schools = school_score.head(10).reset_index()\n",
    "worst_schools = school_score.tail(10).reset_index()\n",
    "display(top10_schools)\n",
    "display(worst_schools)"
   ]
  },
  {
   "cell_type": "markdown",
   "metadata": {},
   "source": [
    "We have 5 neighborhoods in NYC, so now we can find the neighborhood with best schools. \n",
    "\n",
    "For that, we will use 'borough' col in combined dataset"
   ]
  },
  {
   "cell_type": "code",
   "execution_count": 33,
   "metadata": {},
   "outputs": [
    {
     "data": {
      "text/html": [
       "<div>\n",
       "<style scoped>\n",
       "    .dataframe tbody tr th:only-of-type {\n",
       "        vertical-align: middle;\n",
       "    }\n",
       "\n",
       "    .dataframe tbody tr th {\n",
       "        vertical-align: top;\n",
       "    }\n",
       "\n",
       "    .dataframe thead th {\n",
       "        text-align: right;\n",
       "    }\n",
       "</style>\n",
       "<table border=\"1\" class=\"dataframe\">\n",
       "  <thead>\n",
       "    <tr style=\"text-align: right;\">\n",
       "      <th></th>\n",
       "      <th>school_score</th>\n",
       "      <th>sat_score</th>\n",
       "    </tr>\n",
       "    <tr>\n",
       "      <th>borough</th>\n",
       "      <th></th>\n",
       "      <th></th>\n",
       "    </tr>\n",
       "  </thead>\n",
       "  <tbody>\n",
       "    <tr>\n",
       "      <th>Manhattan</th>\n",
       "      <td>49.956996</td>\n",
       "      <td>1278.331410</td>\n",
       "    </tr>\n",
       "    <tr>\n",
       "      <th>Staten Island</th>\n",
       "      <td>49.133457</td>\n",
       "      <td>1382.500000</td>\n",
       "    </tr>\n",
       "    <tr>\n",
       "      <th>Queens</th>\n",
       "      <td>48.040595</td>\n",
       "      <td>1286.753032</td>\n",
       "    </tr>\n",
       "    <tr>\n",
       "      <th>Brooklyn</th>\n",
       "      <td>47.324475</td>\n",
       "      <td>1181.364461</td>\n",
       "    </tr>\n",
       "    <tr>\n",
       "      <th>Bronx</th>\n",
       "      <td>46.338401</td>\n",
       "      <td>1157.598203</td>\n",
       "    </tr>\n",
       "  </tbody>\n",
       "</table>\n",
       "</div>"
      ],
      "text/plain": [
       "               school_score    sat_score\n",
       "borough                                 \n",
       "Manhattan         49.956996  1278.331410\n",
       "Staten Island     49.133457  1382.500000\n",
       "Queens            48.040595  1286.753032\n",
       "Brooklyn          47.324475  1181.364461\n",
       "Bronx             46.338401  1157.598203"
      ]
     },
     "execution_count": 33,
     "metadata": {},
     "output_type": "execute_result"
    }
   ],
   "source": [
    "boroughs = combined.groupby('borough').agg(np.mean)\n",
    "borough_rank = boroughs[['school_score', 'sat_score']].sort_values('school_score', ascending=False)\n",
    "borough_rank"
   ]
  },
  {
   "cell_type": "markdown",
   "metadata": {},
   "source": [
    "Our findings suggest that Manhattan is the best neighborhood in terms of overall school quality. However, highest sat_score belongs to Staten Island. In order to better understand this score, we also need number of schools in each borough. Without the total number of schools, we might be biased to one of them. "
   ]
  },
  {
   "cell_type": "code",
   "execution_count": 34,
   "metadata": {},
   "outputs": [],
   "source": [
    "school_count = combined.groupby('borough').count()\n",
    "borough_rank['count'] = school_count['DBN']"
   ]
  },
  {
   "cell_type": "code",
   "execution_count": 35,
   "metadata": {},
   "outputs": [
    {
     "data": {
      "text/html": [
       "<div>\n",
       "<style scoped>\n",
       "    .dataframe tbody tr th:only-of-type {\n",
       "        vertical-align: middle;\n",
       "    }\n",
       "\n",
       "    .dataframe tbody tr th {\n",
       "        vertical-align: top;\n",
       "    }\n",
       "\n",
       "    .dataframe thead th {\n",
       "        text-align: right;\n",
       "    }\n",
       "</style>\n",
       "<table border=\"1\" class=\"dataframe\">\n",
       "  <thead>\n",
       "    <tr style=\"text-align: right;\">\n",
       "      <th></th>\n",
       "      <th>school_score</th>\n",
       "      <th>sat_score</th>\n",
       "      <th>count</th>\n",
       "    </tr>\n",
       "    <tr>\n",
       "      <th>borough</th>\n",
       "      <th></th>\n",
       "      <th></th>\n",
       "      <th></th>\n",
       "    </tr>\n",
       "  </thead>\n",
       "  <tbody>\n",
       "    <tr>\n",
       "      <th>Manhattan</th>\n",
       "      <td>49.956996</td>\n",
       "      <td>1278.331410</td>\n",
       "      <td>90</td>\n",
       "    </tr>\n",
       "    <tr>\n",
       "      <th>Staten Island</th>\n",
       "      <td>49.133457</td>\n",
       "      <td>1382.500000</td>\n",
       "      <td>10</td>\n",
       "    </tr>\n",
       "    <tr>\n",
       "      <th>Queens</th>\n",
       "      <td>48.040595</td>\n",
       "      <td>1286.753032</td>\n",
       "      <td>64</td>\n",
       "    </tr>\n",
       "    <tr>\n",
       "      <th>Brooklyn</th>\n",
       "      <td>47.324475</td>\n",
       "      <td>1181.364461</td>\n",
       "      <td>106</td>\n",
       "    </tr>\n",
       "    <tr>\n",
       "      <th>Bronx</th>\n",
       "      <td>46.338401</td>\n",
       "      <td>1157.598203</td>\n",
       "      <td>93</td>\n",
       "    </tr>\n",
       "  </tbody>\n",
       "</table>\n",
       "</div>"
      ],
      "text/plain": [
       "               school_score    sat_score  count\n",
       "borough                                        \n",
       "Manhattan         49.956996  1278.331410     90\n",
       "Staten Island     49.133457  1382.500000     10\n",
       "Queens            48.040595  1286.753032     64\n",
       "Brooklyn          47.324475  1181.364461    106\n",
       "Bronx             46.338401  1157.598203     93"
      ]
     },
     "execution_count": 35,
     "metadata": {},
     "output_type": "execute_result"
    }
   ],
   "source": [
    "borough_rank"
   ]
  },
  {
   "cell_type": "markdown",
   "metadata": {},
   "source": [
    "Staten Island only has 10 schools, this could be a reason for it to have higher score on SATs. Anyway, we can conclude that Manhattan has the best schools overall. "
   ]
  },
  {
   "cell_type": "markdown",
   "metadata": {},
   "source": [
    "## Conclusion. \n",
    "\n",
    "In this data analysis, we looked at several datasets relating to High Schools under New York City Department of Education. Analysis brought some interesting insights and overall picture of schools in NYC. This analysis can be further expanded to find more facts, and reflect upon them. "
   ]
  },
  {
   "cell_type": "markdown",
   "metadata": {},
   "source": [
    "# Thank you. "
   ]
  }
 ],
 "metadata": {
  "kernelspec": {
   "display_name": "Python 3",
   "language": "python",
   "name": "python3"
  },
  "language_info": {
   "codemirror_mode": {
    "name": "ipython",
    "version": 3
   },
   "file_extension": ".py",
   "mimetype": "text/x-python",
   "name": "python",
   "nbconvert_exporter": "python",
   "pygments_lexer": "ipython3",
   "version": "3.7.5"
  }
 },
 "nbformat": 4,
 "nbformat_minor": 2
}
